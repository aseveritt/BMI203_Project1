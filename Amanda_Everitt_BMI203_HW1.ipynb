{
 "cells": [
  {
   "cell_type": "markdown",
   "metadata": {},
   "source": [
    "# Project 1 -- Sequence Alignment\n",
    "\n",
    "## Amanda Everitt"
   ]
  },
  {
   "cell_type": "markdown",
   "metadata": {},
   "source": [
    "## Part 1: API and implementation\n",
    "\n",
    "1) For both Smith-Waterman and Needleman-Wunsch algorithms: \n",
    "- a) What are the parameters and variables required for algorithm initialization, execution, and termination?\n",
    "- b) What quantities are returned?\n",
    "- c) What is the runtime complexity?"
   ]
  },
  {
   "cell_type": "markdown",
   "metadata": {},
   "source": [
    "> 1a) Both algorithms require the user provide a substitution matrix, gap open penalty, gap extension penalty, and two input sequences for initialization. \n",
    "For execution, both alogrithms require (in some form) a Ix, Iy, M, and pointer matrix to be created. \n",
    "The first and second matrix represent opening & extending a gap in the first and second sequence. \n",
    "The third matrix represents the maxium scoring of either matching, mismatching, or opening/extending a gap. \n",
    "The last other keeps track of which of the three matrices returns the largest value. \n",
    "For termination, the NW algorithm will terminate when the traceback reaches the first cell M[0,0]. The SW algorithm will terminate when the traceback either reaches a zero or first cell. "
   ]
  },
  {
   "cell_type": "markdown",
   "metadata": {},
   "source": [
    "> 1b) The program will return the raw alignment score, the number of gaps, the number of identities matched, and an optional print out of the alignment made to look like the BLAST print screen. "
   ]
  },
  {
   "cell_type": "markdown",
   "metadata": {},
   "source": [
    "> 1c) The runtime complexity is O(m*n) because the program must traverse the final traceback matrix.  "
   ]
  },
  {
   "cell_type": "markdown",
   "metadata": {},
   "source": [
    "2) What functionalities in initialization, execution and termination are shared between these algorithms? Which are not shared?"
   ]
  },
  {
   "cell_type": "markdown",
   "metadata": {},
   "source": [
    "> 2) During initialization the alogorithms share the same input parameters and pointer matrix intialization. In the M matrix intialization, they both require M[0,0] = 0 and the rest to -inf; however, SW additionally requires the first column and first row be initialized to zero. In the Ix and Iy matrices, both algorithms require I[0,0] = gap open penalty. In SW, the rest of the matrices are filled with -inf whereas NW requires either the first row (i) or the first column (j) evaluate to (gap_open + (gap_ext * i) or (gap_open + (gap_ext * j)) respectively. \n",
    "\n",
    "> During the exectuion, the M matrix is filled by the max(match/mismatch score, Ix[i,j], Iy[i,j]) in NW; however, in SW if the max value is negative the max will be set to zero. This represents a position where the local alignment is no longer favorable and should end. In the local SW, it is also important to keep track of the highest value in the M matrix cell and its position. The construction of the traceback matrix is shared between the algorithms.\n",
    "\n",
    "> During termination, the NW algorithm will begin the traceback at [m,n] terminate at [0,0], and return the final alignment score which is the the M matrix M[m,n]. The SW algorithm will begin the traceback at the first cell with the highest value in the M matrix, and continue until a zero is encountered or [0,0] is reached. The alignment score is the highest value observed in the M matrix. "
   ]
  },
  {
   "cell_type": "markdown",
   "metadata": {},
   "source": [
    "3) How does affine-gap based alignment differ from linear-gap alignment in terms of implementation?"
   ]
  },
  {
   "cell_type": "markdown",
   "metadata": {},
   "source": [
    "> 3) Affine gap requires three matrices and a traceback implementation (here another matrix) because you must keep track of gap opening/extensions is both directions. Thus your traceback must look to 9 cells in proximity, not just 3. This means the affine-gap complexity could reach O(n^3) depending on implementation. A linear gap alignment only requires one matrix and the traceback only looks at the 3 proximal cells so the complexity is commonly O(nm). "
   ]
  },
  {
   "cell_type": "markdown",
   "metadata": {},
   "source": [
    "4) Write out an API (methods, variables) with which a user could interact with your class. For each method, define what it does, the arguments and data types, the functionality, and what it returns. Please add this answer to your README.md for your github repo or use full python docstrings with a tool such as Sphinx. This will serve as “documentation” for your TAs to review your code."
   ]
  },
  {
   "cell_type": "markdown",
   "metadata": {},
   "source": [
    "> 4) Implemented with Sphinx"
   ]
  },
  {
   "cell_type": "markdown",
   "metadata": {},
   "source": [
    "# Part 2: Evaluating alignments\n",
    "\n",
    "\n",
    "1) With the BLOSUM50 matrix and a gap opening cost of 11 and a gap extension cost of 3, locally align these sequences and visualize the distribution of alignment scores. How would you describe this distribution?"
   ]
  },
  {
   "cell_type": "code",
   "execution_count": 84,
   "metadata": {},
   "outputs": [],
   "source": [
    "from align import algs\n",
    "import matplotlib.pyplot as plt\n",
    "from sklearn.metrics import roc_curve, auc, roc_auc_score\n",
    "import numpy as np\n",
    "import pandas as pd"
   ]
  },
  {
   "cell_type": "code",
   "execution_count": 85,
   "metadata": {},
   "outputs": [],
   "source": [
    "sw = algs.SmithWaterman(gap_open=-11, gap_extension = -3, substitutionMatrix = \"BLOSUM50\")\n",
    "pos_scores = []; neg_scores = []\n",
    "with open(\"scoring_matrices/Pospairs.txt\") as fp:\n",
    "    for line in fp:\n",
    "        myfile = line.strip().split()\n",
    "        b =sw.align(algs.FastaRecord(myfile[0]), algs.FastaRecord(myfile[1]), print_flag=False)\n",
    "        pos_scores.append(b.top_score)\n",
    "with open(\"scoring_matrices/Negpairs.txt\") as fp:\n",
    "    for line in fp:\n",
    "        myfile = line.strip().split()\n",
    "        b =sw.align(algs.FastaRecord(myfile[0]), algs.FastaRecord(myfile[1]), print_flag=False)\n",
    "        neg_scores.append(b.top_score)"
   ]
  },
  {
   "cell_type": "code",
   "execution_count": 86,
   "metadata": {},
   "outputs": [
    {
     "data": {
      "text/plain": [
       "<matplotlib.legend.Legend at 0x126f7ef10>"
      ]
     },
     "execution_count": 86,
     "metadata": {},
     "output_type": "execute_result"
    },
    {
     "data": {
      "image/png": "[encoded data removed]",
      "text/plain": [
       "<Figure size 700x500 with 1 Axes>"
      ]
     },
     "metadata": {
      "needs_background": "light"
     },
     "output_type": "display_data"
    }
   ],
   "source": [
    "plt.rcParams.update({'figure.figsize':(7,5), 'figure.dpi':100})\n",
    "\n",
    "plt.hist(pos_scores, alpha=0.5, bins=100, color='g', label='Positive Pairs')\n",
    "plt.hist(neg_scores, alpha=0.5, bins=50, color='b', label='Negative Scores')\n",
    "plt.gca().set(title='Frequency Histogram of Alignment Scores', ylabel='Frequency')\n",
    "plt.legend()"
   ]
  },
  {
   "cell_type": "markdown",
   "metadata": {},
   "source": [
    "> I would describe this distribution as almost normal, with the exception of one positive outlier. Visually, you can see the negative score pairs have a similar distribution but shifted to a lower mean.  "
   ]
  },
  {
   "cell_type": "markdown",
   "metadata": {},
   "source": [
    "2) Generate a confusion matrix indicating the frequency of false positives, false negatives, true positives, and true negatives when using the average alignment score as a threshold. What is the threshold value, and how does the confusion matrix suggest this algorithm performed?"
   ]
  },
  {
   "cell_type": "code",
   "execution_count": 87,
   "metadata": {},
   "outputs": [
    {
     "name": "stdout",
     "output_type": "stream",
     "text": [
      "Threshold= 49.13 \n",
      "\n",
      "Predicted  Neg  Pos\n",
      "Actual             \n",
      "Neg         42    8\n",
      "Pos         28   22\n"
     ]
    }
   ],
   "source": [
    "t = sum(pos_scores + neg_scores )/len(pos_scores + neg_scores )\n",
    "print(\"Threshold=\", t, \"\\n\")\n",
    "\n",
    "actual_list = np.repeat(np.array([\"Pos\", \"Neg\"]), [len(pos_scores), len(neg_scores)], axis=0)\n",
    "pred_list = []\n",
    "for i in pos_scores:\n",
    "    if i >= t: pred_list.append(\"Pos\")\n",
    "    else: pred_list.append(\"Neg\")\n",
    "for i in neg_scores:\n",
    "    if i < t: pred_list.append(\"Neg\")\n",
    "    else: pred_list.append(\"Pos\")\n",
    "df_confusion = pd.crosstab(pd.Series(actual_list, name='Actual'), \n",
    "                           pd.Series(pred_list, name='Predicted'))\n",
    "print(df_confusion)"
   ]
  },
  {
   "cell_type": "markdown",
   "metadata": {},
   "source": [
    "> The threshold value is 49.13. The confusion matrix suggest the algorithm (or threshold) is not tuned yet and performing just okay. The accuracy is 0.64 (42+22)/(42+22+8+28) which for alignment classifiers would be very low. In particular, there are quite a few positive pairs that are predicted to be negative. "
   ]
  },
  {
   "cell_type": "markdown",
   "metadata": {},
   "source": [
    "3) Create a ROC plot which shows the fraction of true positives on the Y axis and the fraction of false positives on the X axis. Please take care to make your ROC plots square, with both X and Y axes limited to the range [0:1]."
   ]
  },
  {
   "cell_type": "code",
   "execution_count": 90,
   "metadata": {},
   "outputs": [
    {
     "data": {
      "image/png": "[encoded data removed]",
      "text/plain": [
       "<Figure size 700x500 with 1 Axes>"
      ]
     },
     "metadata": {
      "needs_background": "light"
     },
     "output_type": "display_data"
    }
   ],
   "source": [
    "y_true = np.repeat(np.array([1, 0]), [len(pos_scores), len(neg_scores)], axis=0)\n",
    "all_scores = pos_scores + neg_scores\n",
    "y_pred = [x/max(all_scores) for x in all_scores]\n",
    "\n",
    "fpr = dict()\n",
    "tpr = dict()\n",
    "roc_auc = dict()\n",
    "for i in range(2):\n",
    "    fpr[i], tpr[i], _ = roc_curve(y_true, y_pred)\n",
    "    roc_auc[i] = auc(fpr[i], tpr[i])\n",
    "\n",
    "auroc = roc_auc_score(y_true, y_pred)\n",
    "x=np.linspace(0,1) \n",
    "plt.figure()\n",
    "plt.plot(fpr[1], tpr[1])\n",
    "plt.plot(x,x,'k-', linestyle=\"--\", color=\"black\", linewidth=1)\n",
    "plt.xlim([0.0, 1.05])\n",
    "plt.ylim([0.0, 1.05])\n",
    "plt.xlabel('False Positive Rate')\n",
    "plt.ylabel('True Positive Rate')\n",
    "plt.title('Receiver operating characteristic (auROC= '+ str(round(auroc,2))+ \")\")\n",
    "plt.show()"
   ]
  },
  {
   "cell_type": "markdown",
   "metadata": {},
   "source": [
    "4) Determine the area under the ROC curve (AUROC). What does this value indicate about the performance of this algorithm? Can you confidently assess the performance of this algorithm with this value alone? Why or why not? Having assessed the local alignment algorithm using the BLOSUM50 matrix, we are interested in determining how adjusting the gap penalties influences its performance."
   ]
  },
  {
   "cell_type": "code",
   "execution_count": 91,
   "metadata": {},
   "outputs": [
    {
     "name": "stdout",
     "output_type": "stream",
     "text": [
      "0.7858\n"
     ]
    }
   ],
   "source": [
    "print (roc_auc_score(y_true, y_pred))"
   ]
  },
  {
   "cell_type": "markdown",
   "metadata": {},
   "source": [
    "> This value indicates that the algorithm is performing better than expected (0.5), but not exceptionally well. Based on this value alone, I can not confidently asses the performance. I have a general feeling it should be improved, but this metric alone provides no intuition into other issues like data imbalanced. "
   ]
  },
  {
   "cell_type": "markdown",
   "metadata": {},
   "source": [
    "5) Once again, using local alignment, try a range of gap opening (1-20) and gap extension (1-5) costs with the BLOSUM62 matrix. Using the AUROC of each approach, determine which gap penalty performs the “best”. What does this pair of values suggest about the evolution of these sequences and the likelihood of insertions / deletions?"
   ]
  },
  {
   "cell_type": "code",
   "execution_count": 92,
   "metadata": {},
   "outputs": [],
   "source": [
    "def amanda_helper(pwalign):\n",
    "    pos_scores = []; neg_scores = []\n",
    "    with open(\"scoring_matrices/Pospairs.txt\") as fp:\n",
    "        for line in fp:\n",
    "            myfile = line.strip().split()\n",
    "            b =pwalign.align(algs.FastaRecord(myfile[0]), algs.FastaRecord(myfile[1]), print_flag=False)\n",
    "            pos_scores.append(b.top_score)\n",
    "    with open(\"scoring_matrices/Negpairs.txt\") as fp:\n",
    "        for line in fp:\n",
    "            myfile = line.strip().split()\n",
    "            b =pwalign.align(algs.FastaRecord(myfile[0]), algs.FastaRecord(myfile[1]), print_flag=False)\n",
    "            neg_scores.append(b.top_score)\n",
    "    \n",
    "    y_true = np.repeat(np.array([1, 0]), [len(pos_scores), len(neg_scores)], axis=0)\n",
    "    all_scores = pos_scores + neg_scores\n",
    "    y_pred = [x/max(all_scores) for x in all_scores]\n",
    "    return (y_true, y_pred)\n",
    "\n",
    "def amanda_roc(actual_list, pred_list, subtitle=\"\"):\n",
    "    fpr = dict()\n",
    "    tpr = dict()\n",
    "    roc_auc = dict()\n",
    "    for i in range(2):\n",
    "        fpr[i], tpr[i], _ = roc_curve(actual_list, pred_list)\n",
    "        roc_auc[i] = auc(fpr[i], tpr[i])\n",
    "\n",
    "    x=np.linspace(0,1) \n",
    "    plt.figure()\n",
    "    plt.plot(fpr[1], tpr[1])\n",
    "    plt.plot(x,x,'k-', linestyle=\"--\", color=\"black\", linewidth=1)\n",
    "    plt.xlim([0.0, 1.05])\n",
    "    plt.ylim([0.0, 1.05])\n",
    "    plt.xlabel('False Positive Rate')\n",
    "    plt.ylabel('True Positive Rate')\n",
    "    plt.title('Receiver operating characteristic\\n' +subtitle)\n",
    "    plt.show()\n",
    "    return"
   ]
  },
  {
   "cell_type": "raw",
   "metadata": {},
   "source": [
    "final_mat = [] #matrix, o, e, auroc\n",
    "\n",
    "for o in range(-1,-20,-1):\n",
    "    for e in range(-1,-5,-1):\n",
    "        print (o,e)\n",
    "        sw = algs.SmithWaterman(gap_open=o, gap_extension = e, substitutionMatrix = \"BLOSUM62\")\n",
    "        y_true, y_pred = amanda_helper(sw)\n",
    "        final_val = roc_auc_score(y_true, y_pred)\n",
    "        final_mat.append([\"local\", \"BLOSUM62\", o, e, final_val])\n",
    "\n",
    "\n",
    "np.save('Q5_mat.npy', final_mat)"
   ]
  },
  {
   "cell_type": "code",
   "execution_count": 105,
   "metadata": {},
   "outputs": [
    {
     "name": "stdout",
     "output_type": "stream",
     "text": [
      "   algorithm Substitution Matrix Gap Open Gap Extension               auROC\n",
      "0      local            BLOSUM62       -1            -1               0.745\n",
      "1      local            BLOSUM62       -1            -2               0.745\n",
      "2      local            BLOSUM62       -1            -3               0.745\n",
      "3      local            BLOSUM62       -1            -4               0.745\n",
      "4      local            BLOSUM62       -2            -1              0.7602\n",
      "5      local            BLOSUM62       -2            -2              0.7738\n",
      "6      local            BLOSUM62       -2            -3              0.7738\n",
      "7      local            BLOSUM62       -2            -4              0.7738\n",
      "8      local            BLOSUM62       -3            -1               0.781\n",
      "9      local            BLOSUM62       -3            -2  0.7919999999999999\n",
      "10     local            BLOSUM62       -3            -3               0.799\n",
      "11     local            BLOSUM62       -3            -4               0.799\n",
      "12     local            BLOSUM62       -4            -1              0.7908\n",
      "13     local            BLOSUM62       -4            -2              0.8144\n",
      "14     local            BLOSUM62       -4            -3  0.8352000000000002\n",
      "15     local            BLOSUM62       -4            -4              0.8444\n",
      "16     local            BLOSUM62       -5            -1              0.8038\n",
      "17     local            BLOSUM62       -5            -2  0.8316000000000001\n",
      "18     local            BLOSUM62       -5            -3              0.8432\n",
      "19     local            BLOSUM62       -5            -4  0.8400000000000001\n",
      "20     local            BLOSUM62       -6            -1  0.8161999999999999\n",
      "21     local            BLOSUM62       -6            -2  0.8363999999999999\n",
      "22     local            BLOSUM62       -6            -3  0.8220000000000001\n",
      "23     local            BLOSUM62       -6            -4              0.8102\n",
      "24     local            BLOSUM62       -7            -1  0.8241999999999999\n",
      "25     local            BLOSUM62       -7            -2              0.8224\n",
      "26     local            BLOSUM62       -7            -3              0.8096\n",
      "27     local            BLOSUM62       -7            -4  0.8039999999999999\n",
      "28     local            BLOSUM62       -8            -1              0.8128\n",
      "29     local            BLOSUM62       -8            -2              0.8098\n",
      "30     local            BLOSUM62       -8            -3  0.7926000000000001\n",
      "31     local            BLOSUM62       -8            -4              0.7872\n",
      "32     local            BLOSUM62       -9            -1              0.8012\n",
      "33     local            BLOSUM62       -9            -2              0.7938\n",
      "34     local            BLOSUM62       -9            -3              0.7832\n",
      "35     local            BLOSUM62       -9            -4              0.7724\n",
      "36     local            BLOSUM62      -10            -1              0.7964\n",
      "37     local            BLOSUM62      -10            -2              0.7858\n",
      "38     local            BLOSUM62      -10            -3              0.7762\n",
      "39     local            BLOSUM62      -10            -4  0.7732000000000001\n",
      "40     local            BLOSUM62      -11            -1  0.7891999999999999\n",
      "41     local            BLOSUM62      -11            -2  0.7769999999999999\n",
      "42     local            BLOSUM62      -11            -3              0.7752\n",
      "43     local            BLOSUM62      -11            -4              0.7732\n",
      "44     local            BLOSUM62      -12            -1  0.7786000000000001\n",
      "45     local            BLOSUM62      -12            -2              0.7734\n",
      "46     local            BLOSUM62      -12            -3              0.7722\n",
      "47     local            BLOSUM62      -12            -4              0.7726\n",
      "48     local            BLOSUM62      -13            -1  0.7747999999999999\n",
      "49     local            BLOSUM62      -13            -2               0.779\n",
      "50     local            BLOSUM62      -13            -3  0.7787999999999999\n",
      "51     local            BLOSUM62      -13            -4              0.7792\n",
      "52     local            BLOSUM62      -14            -1               0.777\n",
      "53     local            BLOSUM62      -14            -2              0.7806\n",
      "54     local            BLOSUM62      -14            -3  0.7807999999999999\n",
      "55     local            BLOSUM62      -14            -4              0.7822\n",
      "56     local            BLOSUM62      -15            -1  0.7776000000000001\n",
      "57     local            BLOSUM62      -15            -2  0.7791999999999999\n",
      "58     local            BLOSUM62      -15            -3  0.7811999999999999\n",
      "59     local            BLOSUM62      -15            -4  0.7824000000000001\n",
      "60     local            BLOSUM62      -16            -1              0.7776\n",
      "61     local            BLOSUM62      -16            -2  0.7797999999999999\n",
      "62     local            BLOSUM62      -16            -3              0.7816\n",
      "63     local            BLOSUM62      -16            -4              0.7816\n",
      "64     local            BLOSUM62      -17            -1              0.7762\n",
      "65     local            BLOSUM62      -17            -2              0.7778\n",
      "66     local            BLOSUM62      -17            -3               0.779\n",
      "67     local            BLOSUM62      -17            -4  0.7789999999999999\n",
      "68     local            BLOSUM62      -18            -1              0.7754\n",
      "69     local            BLOSUM62      -18            -2              0.7774\n",
      "70     local            BLOSUM62      -18            -3              0.7774\n",
      "71     local            BLOSUM62      -18            -4  0.7771999999999999\n",
      "72     local            BLOSUM62      -19            -1  0.7751999999999999\n",
      "73     local            BLOSUM62      -19            -2              0.7766\n",
      "74     local            BLOSUM62      -19            -3              0.7764\n",
      "75     local            BLOSUM62      -19            -4               0.776\n"
     ]
    }
   ],
   "source": [
    "a = np.load('Q5_mat.npy')\n",
    "final_mat = a.tolist()\n",
    "df = pd.DataFrame(final_mat, columns=[\"algorithm\", 'Substitution Matrix', 'Gap Open', 'Gap Extension', \"auROC\"]) \n",
    "pd.set_option('display.max_rows', df.shape[0]+1)\n",
    "print(df)"
   ]
  },
  {
   "cell_type": "markdown",
   "metadata": {},
   "source": [
    "> The auROC specifies that a gap opening penalty of -4 and gap extension penality of -4 results in the best performance. This suggests the sequences are further in evolutionary history from each other and we should expect gaps to occur frequently. It is not beneficial to severly punish gaps (eg. -10) as sequences are not perfectly homolgous and are bound to have some gaps. Towards the other extreme, performance is low when you don't penalize gaps at all (eg -1) because this will allow more spurious mismatches to be formed that also don't reflect biology. This pair of values intuitively suggests that indels are common, particularly indels > 1bp are common, and there is a reasonable balance between how severly you penalize gaps based on the sequences' evolutionary expectation. "
   ]
  },
  {
   "cell_type": "markdown",
   "metadata": {},
   "source": [
    "6) Using the BLOSUM50, BLOSUM62, PAM100 and PAM250 scoring matrices, evaluate the performance of the global alignment algorithm using the selected pair of best performing gap penalties. Evaluate your optional additional extension algorithm as well, using the parameters it requires."
   ]
  },
  {
   "cell_type": "markdown",
   "metadata": {},
   "source": [
    "> Hi, plotting the ROC curves for Q7 here because its time consuming to separate and store these values. Also I did no additional algorithm extensions. "
   ]
  },
  {
   "cell_type": "code",
   "execution_count": null,
   "metadata": {},
   "outputs": [
    {
     "name": "stdout",
     "output_type": "stream",
     "text": [
      "BLOSUM62\n"
     ]
    }
   ],
   "source": [
    "for ugh in [\"BLOSUM62\", \"BLOSUM50\", \"PAM100\", \"PAM250\"]:\n",
    "    o = -4\n",
    "    e = -4\n",
    "    print (ugh)\n",
    "    #Global\n",
    "    nw = algs.NeedlemanWunsch(gap_open=o, gap_extension = e, substitutionMatrix = ugh)\n",
    "    y_true, y_pred = amanda_helper(nw)\n",
    "    final_val = roc_auc_score(y_true, y_pred)\n",
    "    final_mat.append([\"global\", ugh, o, e, final_val])\n",
    "    amanda_roc(y_true, y_pred, subtitle= ugh + \" global\")\n",
    "    \n",
    "    #LOCAL\n",
    "    sw = algs.SmithWaterman(gap_open=o, gap_extension = e, substitutionMatrix = ugh)\n",
    "    y_true, y_pred = amanda_helper(nw)\n",
    "    final_val = roc_auc_score(y_true, y_pred)\n",
    "    final_mat.append([\"local\", ugh, o, e, final_val])\n",
    "    amanda_roc(y_true, y_pred, subtitle= ugh + \" local\")\n",
    "    \n"
   ]
  },
  {
   "cell_type": "markdown",
   "metadata": {},
   "source": [
    "7) For each algorithm, generate a ROC plot demonstrating performance using each of the 4 matrices, given the fixed gap costs. Of all these algorithms, which performs the best as measured by AUROC?"
   ]
  },
  {
   "cell_type": "code",
   "execution_count": 51,
   "metadata": {},
   "outputs": [
    {
     "name": "stdout",
     "output_type": "stream",
     "text": [
      "  algorithm Substitution Matrix  Gap Open  Gap Extension  auROC\n",
      "0     local            BLOSUM62        -1             -1   0.64\n",
      "1     local            BLOSUM62        -1             -4   0.64\n",
      "2     local            BLOSUM62       -11             -1   0.65\n",
      "3     local            BLOSUM62       -11             -4   0.63\n",
      "4    global            BLOSUM62        -5             -3   0.65\n",
      "5     local            BLOSUM62        -5             -3   0.65\n"
     ]
    }
   ],
   "source": [
    "df = pd.DataFrame(final_mat, columns=[\"algorithm\", 'Substitution Matrix', 'Gap Open', 'Gap Extension', \"auROC\"])\n",
    "print(df)"
   ]
  },
  {
   "cell_type": "markdown",
   "metadata": {},
   "source": [
    "> See ROC plots above. Given the 8 combinations, ___ perfomed the best as measured by auROC. "
   ]
  },
  {
   "cell_type": "markdown",
   "metadata": {},
   "source": [
    "8) Comment qualitatively on the best algorithm. What does the best performing algorithm indicate about the origin of these sequences?"
   ]
  },
  {
   "cell_type": "markdown",
   "metadata": {},
   "source": [
    "> Based on the locally ideal gap penalty of -4, it suggests the sequences are further in evolutionary history from each other and we should expect gaps to occur frequently. If the ideal penalty was -10 it would suggest the sequences are highly homologous. "
   ]
  }
 ],
 "metadata": {
  "kernelspec": {
   "display_name": "Python 3",
   "language": "python",
   "name": "python3"
  },
  "language_info": {
   "codemirror_mode": {
    "name": "ipython",
    "version": 3
   },
   "file_extension": ".py",
   "mimetype": "text/x-python",
   "name": "python",
   "nbconvert_exporter": "python",
   "pygments_lexer": "ipython3",
   "version": "3.8.6"
  }
 },
 "nbformat": 4,
 "nbformat_minor": 4
}
